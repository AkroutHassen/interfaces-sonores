{
 "cells": [
  {
   "cell_type": "code",
   "execution_count": null,
   "metadata": {
    "execution": {
     "iopub.execute_input": "2025-04-09T21:27:30.334717Z",
     "iopub.status.busy": "2025-04-09T21:27:30.334356Z",
     "iopub.status.idle": "2025-04-09T21:27:30.341184Z",
     "shell.execute_reply": "2025-04-09T21:27:30.340302Z",
     "shell.execute_reply.started": "2025-04-09T21:27:30.334687Z"
    },
    "trusted": true
   },
   "outputs": [],
   "source": [
    "# imoprt libraries\n",
    "import pandas as pd\n",
    "import numpy as np\n",
    "import seaborn as sns\n",
    "import matplotlib.pyplot as plt\n",
    "%matplotlib inline\n",
    "\n",
    "from glob import glob \n",
    "import IPython\n",
    "import IPython.display as ipd \n",
    "\n",
    "import librosa \n",
    "import librosa.display"
   ]
  },
  {
   "cell_type": "code",
   "execution_count": 85,
   "metadata": {
    "execution": {
     "iopub.execute_input": "2025-04-09T21:27:33.980991Z",
     "iopub.status.busy": "2025-04-09T21:27:33.980627Z",
     "iopub.status.idle": "2025-04-09T21:27:33.990343Z",
     "shell.execute_reply": "2025-04-09T21:27:33.989591Z",
     "shell.execute_reply.started": "2025-04-09T21:27:33.980957Z"
    },
    "trusted": true
   },
   "outputs": [],
   "source": [
    "# import labelencoder and scaler\n",
    "from sklearn.preprocessing import LabelEncoder\n",
    "from sklearn.preprocessing import StandardScaler\n",
    "encoder = LabelEncoder()\n",
    "scaler = StandardScaler()"
   ]
  },
  {
   "cell_type": "code",
   "execution_count": null,
   "metadata": {
    "execution": {
     "iopub.execute_input": "2025-04-09T21:27:34.076547Z",
     "iopub.status.busy": "2025-04-09T21:27:34.076302Z",
     "iopub.status.idle": "2025-04-09T21:27:34.121955Z",
     "shell.execute_reply": "2025-04-09T21:27:34.120884Z",
     "shell.execute_reply.started": "2025-04-09T21:27:34.076525Z"
    },
    "trusted": true
   },
   "outputs": [
    {
     "name": "stdout",
     "output_type": "stream",
     "text": [
      "   length  chroma_stft_mean  chroma_stft_var  rms_mean   rms_var  \\\n",
      "0  661794          0.417180         0.083849  0.115737  0.002511   \n",
      "1  661504          0.429750         0.078049  0.100293  0.001004   \n",
      "2  661504          0.452995         0.086779  0.084745  0.001776   \n",
      "3  661794          0.450119         0.079885  0.169938  0.004638   \n",
      "4  661504          0.434904         0.079379  0.114454  0.001662   \n",
      "\n",
      "   spectral_centroid_mean  spectral_centroid_var  spectral_bandwidth_mean  \\\n",
      "0             3256.824592          388583.502328              2898.247907   \n",
      "1             2128.932662          326430.225668              2108.898696   \n",
      "2             2292.343238          429166.827516              2348.257608   \n",
      "3             3167.957020          670882.410426              3047.751585   \n",
      "4             1974.507687          351058.059434              2089.631458   \n",
      "\n",
      "   spectral_bandwidth_var  rolloff_mean  ...  mfcc17_mean  mfcc17_var  \\\n",
      "0            93275.687116   6681.488136  ...    -4.377054   38.717290   \n",
      "1           157527.878864   4423.058147  ...   -10.314117   38.484943   \n",
      "2            97938.168630   5038.586341  ...    -0.305486   62.860863   \n",
      "3            80129.502214   6935.539964  ...    -4.745715   31.178467   \n",
      "4           180506.795280   4249.843263  ...    -8.090049   36.751960   \n",
      "\n",
      "   mfcc18_mean  mfcc18_var  mfcc19_mean  mfcc19_var  mfcc20_mean  mfcc20_var  \\\n",
      "0    -3.651326   49.481274    -2.090353   55.316193    -0.312382   57.221195   \n",
      "1     0.569395   42.171764    -4.152319   62.857390     3.473263   61.314556   \n",
      "2     7.588761   65.560640     0.653866   64.575230     0.800321   70.429040   \n",
      "3    -5.765583   25.345272    -4.028948   25.122086    -5.362669   24.810057   \n",
      "4     0.366702   43.388584    -3.236822   56.369453     3.578942   61.412624   \n",
      "\n",
      "   genre         filename  \n",
      "0  disco  disco.00031.wav  \n",
      "1  disco  disco.00089.wav  \n",
      "2  disco  disco.00079.wav  \n",
      "3  disco  disco.00030.wav  \n",
      "4  disco  disco.00060.wav  \n",
      "\n",
      "[5 rows x 60 columns]\n",
      "<class 'pandas.core.frame.DataFrame'>\n",
      "RangeIndex: 999 entries, 0 to 998\n",
      "Data columns (total 60 columns):\n",
      " #   Column                   Non-Null Count  Dtype  \n",
      "---  ------                   --------------  -----  \n",
      " 0   length                   999 non-null    int64  \n",
      " 1   chroma_stft_mean         999 non-null    float64\n",
      " 2   chroma_stft_var          999 non-null    float64\n",
      " 3   rms_mean                 999 non-null    float64\n",
      " 4   rms_var                  999 non-null    float64\n",
      " 5   spectral_centroid_mean   999 non-null    float64\n",
      " 6   spectral_centroid_var    999 non-null    float64\n",
      " 7   spectral_bandwidth_mean  999 non-null    float64\n",
      " 8   spectral_bandwidth_var   999 non-null    float64\n",
      " 9   rolloff_mean             999 non-null    float64\n",
      " 10  rolloff_var              999 non-null    float64\n",
      " 11  zero_crossing_rate_mean  999 non-null    float64\n",
      " 12  zero_crossing_rate_var   999 non-null    float64\n",
      " 13  harmony_mean             999 non-null    float64\n",
      " 14  harmony_var              999 non-null    float64\n",
      " 15  perceptr_mean            999 non-null    float64\n",
      " 16  perceptr_var             999 non-null    float64\n",
      " 17  tempo                    999 non-null    float64\n",
      " 18  mfcc1_mean               999 non-null    float64\n",
      " 19  mfcc1_var                999 non-null    float64\n",
      " 20  mfcc2_mean               999 non-null    float64\n",
      " 21  mfcc2_var                999 non-null    float64\n",
      " 22  mfcc3_mean               999 non-null    float64\n",
      " 23  mfcc3_var                999 non-null    float64\n",
      " 24  mfcc4_mean               999 non-null    float64\n",
      " 25  mfcc4_var                999 non-null    float64\n",
      " 26  mfcc5_mean               999 non-null    float64\n",
      " 27  mfcc5_var                999 non-null    float64\n",
      " 28  mfcc6_mean               999 non-null    float64\n",
      " 29  mfcc6_var                999 non-null    float64\n",
      " 30  mfcc7_mean               999 non-null    float64\n",
      " 31  mfcc7_var                999 non-null    float64\n",
      " 32  mfcc8_mean               999 non-null    float64\n",
      " 33  mfcc8_var                999 non-null    float64\n",
      " 34  mfcc9_mean               999 non-null    float64\n",
      " 35  mfcc9_var                999 non-null    float64\n",
      " 36  mfcc10_mean              999 non-null    float64\n",
      " 37  mfcc10_var               999 non-null    float64\n",
      " 38  mfcc11_mean              999 non-null    float64\n",
      " 39  mfcc11_var               999 non-null    float64\n",
      " 40  mfcc12_mean              999 non-null    float64\n",
      " 41  mfcc12_var               999 non-null    float64\n",
      " 42  mfcc13_mean              999 non-null    float64\n",
      " 43  mfcc13_var               999 non-null    float64\n",
      " 44  mfcc14_mean              999 non-null    float64\n",
      " 45  mfcc14_var               999 non-null    float64\n",
      " 46  mfcc15_mean              999 non-null    float64\n",
      " 47  mfcc15_var               999 non-null    float64\n",
      " 48  mfcc16_mean              999 non-null    float64\n",
      " 49  mfcc16_var               999 non-null    float64\n",
      " 50  mfcc17_mean              999 non-null    float64\n",
      " 51  mfcc17_var               999 non-null    float64\n",
      " 52  mfcc18_mean              999 non-null    float64\n",
      " 53  mfcc18_var               999 non-null    float64\n",
      " 54  mfcc19_mean              999 non-null    float64\n",
      " 55  mfcc19_var               999 non-null    float64\n",
      " 56  mfcc20_mean              999 non-null    float64\n",
      " 57  mfcc20_var               999 non-null    float64\n",
      " 58  genre                    999 non-null    object \n",
      " 59  filename                 999 non-null    object \n",
      "dtypes: float64(57), int64(1), object(2)\n",
      "memory usage: 468.4+ KB\n",
      "None\n",
      "(799, 58) (200, 58) (799,) (200,)\n"
     ]
    }
   ],
   "source": [
    "df = pd.read_csv(\"extracted_features.csv\")\n",
    "# Afficher les premières lignes pour vérifier le contenu\n",
    "print(df.head())\n",
    "print(df.info())\n",
    "\n",
    "# Séparer les variables explicatives (features) et la cible (genre)\n",
    "# Ici, on retire les colonnes non numériques comme 'filename' si nécessaire\n",
    "data = df.drop(columns=[\"filename\", \"genre\"])  # ou adapter selon vos colonnes\n",
    "labels = df[\"genre\"]\n",
    "\n",
    "# Encodage des labels (si ce sont des chaînes de caractères)\n",
    "from sklearn.preprocessing import LabelEncoder, StandardScaler\n",
    "encoder = LabelEncoder()\n",
    "labels_encoded = encoder.fit_transform(labels)\n",
    "\n",
    "# Standardisation des features\n",
    "scaler = StandardScaler()\n",
    "data_scaled = scaler.fit_transform(data)\n",
    "\n",
    "# Séparation des données d'entraînement et de test\n",
    "from sklearn.model_selection import train_test_split\n",
    "x_train, x_test, y_train, y_test = train_test_split(data_scaled, labels_encoded, test_size=0.2, random_state=42)\n",
    "\n",
    "print(x_train.shape, x_test.shape, y_train.shape, y_test.shape)\n"
   ]
  },
  {
   "cell_type": "code",
   "execution_count": 91,
   "metadata": {
    "execution": {
     "iopub.execute_input": "2025-04-09T21:27:34.123979Z",
     "iopub.status.busy": "2025-04-09T21:27:34.123332Z",
     "iopub.status.idle": "2025-04-09T21:27:35.846781Z",
     "shell.execute_reply": "2025-04-09T21:27:35.845889Z",
     "shell.execute_reply.started": "2025-04-09T21:27:34.123941Z"
    },
    "trusted": true
   },
   "outputs": [],
   "source": [
    "from sklearn.naive_bayes import GaussianNB\n",
    "from sklearn.naive_bayes import BernoulliNB\n",
    "from sklearn.neighbors import KNeighborsClassifier\n",
    "from sklearn.tree import DecisionTreeClassifier\n",
    "from xgboost import XGBClassifier\n",
    "\n",
    "from sklearn.metrics import accuracy_score,precision_score,recall_score,f1_score\n",
    "    \n",
    "# create an instance of each classification algorithm\n",
    "g=GaussianNB()\n",
    "b=BernoulliNB()\n",
    "KN=KNeighborsClassifier()\n",
    "D=DecisionTreeClassifier()\n",
    "XGB=XGBClassifier()\n",
    "\n",
    "algos=[g,b,KN,D,XGB]\n",
    "algo_names=['GaussianNB','BernoulliNB','KNeighborsClassifier','DecisionTreeClassifier','XGBClassifier']\n",
    "   \n",
    "accuracy_scored=[]\n",
    "    \n",
    "# fit and predict for each Algo\n",
    "for item in algos:\n",
    "    item.fit(x_train,y_train)\n",
    "    item.predict(x_test)\n",
    "    accuracy_scored.append(accuracy_score(y_test,item.predict(x_test)))"
   ]
  },
  {
   "cell_type": "code",
   "execution_count": 92,
   "metadata": {
    "execution": {
     "iopub.execute_input": "2025-04-09T21:27:35.849059Z",
     "iopub.status.busy": "2025-04-09T21:27:35.848252Z",
     "iopub.status.idle": "2025-04-09T21:27:35.863777Z",
     "shell.execute_reply": "2025-04-09T21:27:35.862986Z",
     "shell.execute_reply.started": "2025-04-09T21:27:35.849021Z"
    },
    "trusted": true
   },
   "outputs": [
    {
     "data": {
      "text/html": [
       "<div>\n",
       "<style scoped>\n",
       "    .dataframe tbody tr th:only-of-type {\n",
       "        vertical-align: middle;\n",
       "    }\n",
       "\n",
       "    .dataframe tbody tr th {\n",
       "        vertical-align: top;\n",
       "    }\n",
       "\n",
       "    .dataframe thead th {\n",
       "        text-align: right;\n",
       "    }\n",
       "</style>\n",
       "<table border=\"1\" class=\"dataframe\">\n",
       "  <thead>\n",
       "    <tr style=\"text-align: right;\">\n",
       "      <th></th>\n",
       "      <th>Accuracy</th>\n",
       "      <th>Algos</th>\n",
       "    </tr>\n",
       "  </thead>\n",
       "  <tbody>\n",
       "    <tr>\n",
       "      <th>4</th>\n",
       "      <td>0.840</td>\n",
       "      <td>XGBClassifier</td>\n",
       "    </tr>\n",
       "    <tr>\n",
       "      <th>2</th>\n",
       "      <td>0.730</td>\n",
       "      <td>KNeighborsClassifier</td>\n",
       "    </tr>\n",
       "    <tr>\n",
       "      <th>0</th>\n",
       "      <td>0.590</td>\n",
       "      <td>GaussianNB</td>\n",
       "    </tr>\n",
       "    <tr>\n",
       "      <th>3</th>\n",
       "      <td>0.580</td>\n",
       "      <td>DecisionTreeClassifier</td>\n",
       "    </tr>\n",
       "    <tr>\n",
       "      <th>1</th>\n",
       "      <td>0.555</td>\n",
       "      <td>BernoulliNB</td>\n",
       "    </tr>\n",
       "  </tbody>\n",
       "</table>\n",
       "</div>"
      ],
      "text/plain": [
       "   Accuracy                   Algos\n",
       "4     0.840           XGBClassifier\n",
       "2     0.730    KNeighborsClassifier\n",
       "0     0.590              GaussianNB\n",
       "3     0.580  DecisionTreeClassifier\n",
       "1     0.555             BernoulliNB"
      ]
     },
     "execution_count": 92,
     "metadata": {},
     "output_type": "execute_result"
    }
   ],
   "source": [
    "# show results in a DataFrame\n",
    "result = pd.DataFrame(accuracy_scored, columns=[\"Accuracy\"])\n",
    "result['Algos']=algo_names\n",
    "result.sort_values('Accuracy',ascending=False)"
   ]
  },
  {
   "cell_type": "code",
   "execution_count": 93,
   "metadata": {
    "execution": {
     "iopub.execute_input": "2025-04-09T21:27:35.865235Z",
     "iopub.status.busy": "2025-04-09T21:27:35.865003Z",
     "iopub.status.idle": "2025-04-09T21:27:35.869632Z",
     "shell.execute_reply": "2025-04-09T21:27:35.868570Z",
     "shell.execute_reply.started": "2025-04-09T21:27:35.865214Z"
    },
    "trusted": true
   },
   "outputs": [],
   "source": [
    "# import deep learning libraries\n",
    "import tensorflow as tf\n",
    "from tensorflow import keras\n",
    "from keras.models import Sequential"
   ]
  },
  {
   "cell_type": "code",
   "execution_count": 94,
   "metadata": {
    "_kg_hide-output": true,
    "execution": {
     "iopub.execute_input": "2025-04-09T21:27:35.870984Z",
     "iopub.status.busy": "2025-04-09T21:27:35.870708Z",
     "iopub.status.idle": "2025-04-09T21:27:35.969171Z",
     "shell.execute_reply": "2025-04-09T21:27:35.968144Z",
     "shell.execute_reply.started": "2025-04-09T21:27:35.870962Z"
    },
    "trusted": true
   },
   "outputs": [],
   "source": [
    "import tensorflow as tf\n",
    "from tensorflow import keras\n",
    "from tensorflow.keras.layers import Dense, Dropout, BatchNormalization\n",
    "from tensorflow.keras.regularizers import l2\n",
    "\n",
    "model = keras.models.Sequential([\n",
    "    Dense(256, activation=\"relu\", kernel_regularizer=l2(0.001), input_shape=(x_train.shape[1],)),\n",
    "    BatchNormalization(),  # Normalize activations\n",
    "    Dropout(0.3),  # Increase dropout to 30%\n",
    "\n",
    "    Dense(128, activation=\"relu\", kernel_regularizer=l2(0.001)),\n",
    "    BatchNormalization(),\n",
    "    Dropout(0.3),\n",
    "\n",
    "    Dense(64, activation=\"relu\", kernel_regularizer=l2(0.001)),\n",
    "    BatchNormalization(),\n",
    "    Dropout(0.3),\n",
    "\n",
    "    Dense(32, activation=\"relu\", kernel_regularizer=l2(0.001)),\n",
    "    BatchNormalization(),\n",
    "    Dropout(0.3),\n",
    "\n",
    "    Dense(10, activation=\"softmax\")  # Keep softmax for multi-class classification\n",
    "])\n",
    "\n",
    "# Compile with a lower learning rate\n",
    "optimizer = keras.optimizers.Adam(learning_rate=0.001)\n",
    "\n",
    "\n",
    "\n",
    "# Add Early Stopping & Learning Rate Reduction\n",
    "early_stopping = keras.callbacks.EarlyStopping(monitor=\"val_loss\", patience=5, restore_best_weights=True)\n",
    "lr_scheduler = keras.callbacks.ReduceLROnPlateau(monitor=\"val_loss\", factor=0.5, patience=8)\n",
    "\n",
    "# Train the model with callbacks\n",
    "\n"
   ]
  },
  {
   "cell_type": "code",
   "execution_count": 95,
   "metadata": {
    "execution": {
     "iopub.execute_input": "2025-04-09T21:27:35.970910Z",
     "iopub.status.busy": "2025-04-09T21:27:35.970516Z",
     "iopub.status.idle": "2025-04-09T21:27:35.977424Z",
     "shell.execute_reply": "2025-04-09T21:27:35.976563Z",
     "shell.execute_reply.started": "2025-04-09T21:27:35.970867Z"
    },
    "trusted": true
   },
   "outputs": [
    {
     "name": "stdout",
     "output_type": "stream",
     "text": [
      "Model: \"sequential_2\"\n",
      "_________________________________________________________________\n",
      "Layer (type)                 Output Shape              Param #   \n",
      "=================================================================\n",
      "dense_10 (Dense)             (None, 256)               15104     \n",
      "_________________________________________________________________\n",
      "batch_normalization_8 (Batch (None, 256)               1024      \n",
      "_________________________________________________________________\n",
      "dropout_8 (Dropout)          (None, 256)               0         \n",
      "_________________________________________________________________\n",
      "dense_11 (Dense)             (None, 128)               32896     \n",
      "_________________________________________________________________\n",
      "batch_normalization_9 (Batch (None, 128)               512       \n",
      "_________________________________________________________________\n",
      "dropout_9 (Dropout)          (None, 128)               0         \n",
      "_________________________________________________________________\n",
      "dense_12 (Dense)             (None, 64)                8256      \n",
      "_________________________________________________________________\n",
      "batch_normalization_10 (Batc (None, 64)                256       \n",
      "_________________________________________________________________\n",
      "dropout_10 (Dropout)         (None, 64)                0         \n",
      "_________________________________________________________________\n",
      "dense_13 (Dense)             (None, 32)                2080      \n",
      "_________________________________________________________________\n",
      "batch_normalization_11 (Batc (None, 32)                128       \n",
      "_________________________________________________________________\n",
      "dropout_11 (Dropout)         (None, 32)                0         \n",
      "_________________________________________________________________\n",
      "dense_14 (Dense)             (None, 10)                330       \n",
      "=================================================================\n",
      "Total params: 60,586\n",
      "Trainable params: 59,626\n",
      "Non-trainable params: 960\n",
      "_________________________________________________________________\n",
      "None\n"
     ]
    }
   ],
   "source": [
    "print(model.summary()) # show summary of model"
   ]
  },
  {
   "cell_type": "code",
   "execution_count": 96,
   "metadata": {
    "execution": {
     "iopub.execute_input": "2025-04-09T21:27:35.978804Z",
     "iopub.status.busy": "2025-04-09T21:27:35.978525Z",
     "iopub.status.idle": "2025-04-09T21:27:35.993003Z",
     "shell.execute_reply": "2025-04-09T21:27:35.992030Z",
     "shell.execute_reply.started": "2025-04-09T21:27:35.978769Z"
    },
    "trusted": true
   },
   "outputs": [
    {
     "name": "stdout",
     "output_type": "stream",
     "text": [
      "Model: \"sequential_2\"\n",
      "_________________________________________________________________\n",
      "Layer (type)                 Output Shape              Param #   \n",
      "=================================================================\n",
      "dense_10 (Dense)             (None, 256)               15104     \n",
      "_________________________________________________________________\n",
      "batch_normalization_8 (Batch (None, 256)               1024      \n",
      "_________________________________________________________________\n",
      "dropout_8 (Dropout)          (None, 256)               0         \n",
      "_________________________________________________________________\n",
      "dense_11 (Dense)             (None, 128)               32896     \n",
      "_________________________________________________________________\n",
      "batch_normalization_9 (Batch (None, 128)               512       \n",
      "_________________________________________________________________\n",
      "dropout_9 (Dropout)          (None, 128)               0         \n",
      "_________________________________________________________________\n",
      "dense_12 (Dense)             (None, 64)                8256      \n",
      "_________________________________________________________________\n",
      "batch_normalization_10 (Batc (None, 64)                256       \n",
      "_________________________________________________________________\n",
      "dropout_10 (Dropout)         (None, 64)                0         \n",
      "_________________________________________________________________\n",
      "dense_13 (Dense)             (None, 32)                2080      \n",
      "_________________________________________________________________\n",
      "batch_normalization_11 (Batc (None, 32)                128       \n",
      "_________________________________________________________________\n",
      "dropout_11 (Dropout)         (None, 32)                0         \n",
      "_________________________________________________________________\n",
      "dense_14 (Dense)             (None, 10)                330       \n",
      "=================================================================\n",
      "Total params: 60,586\n",
      "Trainable params: 59,626\n",
      "Non-trainable params: 960\n",
      "_________________________________________________________________\n",
      "None\n"
     ]
    }
   ],
   "source": [
    "model.compile(loss=\"sparse_categorical_crossentropy\",\n",
    "              optimizer=optimizer,\n",
    "              metrics=[\"accuracy\"])\n",
    "print(model.summary())"
   ]
  },
  {
   "cell_type": "code",
   "execution_count": 97,
   "metadata": {
    "_kg_hide-output": true,
    "execution": {
     "iopub.execute_input": "2025-04-09T21:27:35.994262Z",
     "iopub.status.busy": "2025-04-09T21:27:35.994023Z",
     "iopub.status.idle": "2025-04-09T21:27:40.525284Z",
     "shell.execute_reply": "2025-04-09T21:27:40.524602Z",
     "shell.execute_reply.started": "2025-04-09T21:27:35.994240Z"
    },
    "scrolled": true,
    "trusted": true
   },
   "outputs": [
    {
     "name": "stdout",
     "output_type": "stream",
     "text": [
      "Epoch 1/100\n",
      "7/7 [==============================] - 1s 35ms/step - loss: 3.4538 - accuracy: 0.1039 - val_loss: 2.6043 - val_accuracy: 0.2200\n",
      "Epoch 2/100\n",
      "7/7 [==============================] - 0s 8ms/step - loss: 3.0058 - accuracy: 0.1665 - val_loss: 2.5068 - val_accuracy: 0.2600\n",
      "Epoch 3/100\n",
      "7/7 [==============================] - 0s 7ms/step - loss: 2.7554 - accuracy: 0.2228 - val_loss: 2.4233 - val_accuracy: 0.4050\n",
      "Epoch 4/100\n",
      "7/7 [==============================] - 0s 7ms/step - loss: 2.5389 - accuracy: 0.3016 - val_loss: 2.3421 - val_accuracy: 0.4750\n",
      "Epoch 5/100\n",
      "7/7 [==============================] - 0s 7ms/step - loss: 2.3796 - accuracy: 0.3154 - val_loss: 2.2583 - val_accuracy: 0.5250\n",
      "Epoch 6/100\n",
      "7/7 [==============================] - 0s 7ms/step - loss: 2.3170 - accuracy: 0.3367 - val_loss: 2.1786 - val_accuracy: 0.5300\n",
      "Epoch 7/100\n",
      "7/7 [==============================] - 0s 7ms/step - loss: 2.2450 - accuracy: 0.3680 - val_loss: 2.0948 - val_accuracy: 0.5250\n",
      "Epoch 8/100\n",
      "7/7 [==============================] - 0s 7ms/step - loss: 2.1597 - accuracy: 0.4130 - val_loss: 2.0216 - val_accuracy: 0.5350\n",
      "Epoch 9/100\n",
      "7/7 [==============================] - 0s 7ms/step - loss: 2.0708 - accuracy: 0.4293 - val_loss: 1.9506 - val_accuracy: 0.5650\n",
      "Epoch 10/100\n",
      "7/7 [==============================] - 0s 7ms/step - loss: 2.0266 - accuracy: 0.4631 - val_loss: 1.8835 - val_accuracy: 0.5900\n",
      "Epoch 11/100\n",
      "7/7 [==============================] - 0s 7ms/step - loss: 1.9824 - accuracy: 0.4568 - val_loss: 1.8235 - val_accuracy: 0.6050\n",
      "Epoch 12/100\n",
      "7/7 [==============================] - 0s 7ms/step - loss: 1.9107 - accuracy: 0.4618 - val_loss: 1.7610 - val_accuracy: 0.6400\n",
      "Epoch 13/100\n",
      "7/7 [==============================] - 0s 7ms/step - loss: 1.8510 - accuracy: 0.4831 - val_loss: 1.6995 - val_accuracy: 0.6700\n",
      "Epoch 14/100\n",
      "7/7 [==============================] - 0s 7ms/step - loss: 1.7841 - accuracy: 0.4956 - val_loss: 1.6498 - val_accuracy: 0.6750\n",
      "Epoch 15/100\n",
      "7/7 [==============================] - 0s 7ms/step - loss: 1.8078 - accuracy: 0.4944 - val_loss: 1.6097 - val_accuracy: 0.6850\n",
      "Epoch 16/100\n",
      "7/7 [==============================] - 0s 7ms/step - loss: 1.7736 - accuracy: 0.5069 - val_loss: 1.5716 - val_accuracy: 0.7000\n",
      "Epoch 17/100\n",
      "7/7 [==============================] - 0s 7ms/step - loss: 1.6816 - accuracy: 0.5757 - val_loss: 1.5341 - val_accuracy: 0.7150\n",
      "Epoch 18/100\n",
      "7/7 [==============================] - 0s 7ms/step - loss: 1.6349 - accuracy: 0.5907 - val_loss: 1.4953 - val_accuracy: 0.7300\n",
      "Epoch 19/100\n",
      "7/7 [==============================] - 0s 7ms/step - loss: 1.6463 - accuracy: 0.5782 - val_loss: 1.4611 - val_accuracy: 0.7500\n",
      "Epoch 20/100\n",
      "7/7 [==============================] - 0s 7ms/step - loss: 1.5849 - accuracy: 0.5957 - val_loss: 1.4336 - val_accuracy: 0.7350\n",
      "Epoch 21/100\n",
      "7/7 [==============================] - 0s 7ms/step - loss: 1.6100 - accuracy: 0.6145 - val_loss: 1.4099 - val_accuracy: 0.7400\n",
      "Epoch 22/100\n",
      "7/7 [==============================] - 0s 7ms/step - loss: 1.5179 - accuracy: 0.6358 - val_loss: 1.3881 - val_accuracy: 0.7300\n",
      "Epoch 23/100\n",
      "7/7 [==============================] - 0s 7ms/step - loss: 1.4945 - accuracy: 0.6233 - val_loss: 1.3615 - val_accuracy: 0.7600\n",
      "Epoch 24/100\n",
      "7/7 [==============================] - 0s 7ms/step - loss: 1.5141 - accuracy: 0.6195 - val_loss: 1.3414 - val_accuracy: 0.7500\n",
      "Epoch 25/100\n",
      "7/7 [==============================] - 0s 7ms/step - loss: 1.4191 - accuracy: 0.6671 - val_loss: 1.3181 - val_accuracy: 0.7500\n",
      "Epoch 26/100\n",
      "7/7 [==============================] - 0s 7ms/step - loss: 1.4548 - accuracy: 0.6370 - val_loss: 1.2826 - val_accuracy: 0.7650\n",
      "Epoch 27/100\n",
      "7/7 [==============================] - 0s 7ms/step - loss: 1.4036 - accuracy: 0.6733 - val_loss: 1.2493 - val_accuracy: 0.7800\n",
      "Epoch 28/100\n",
      "7/7 [==============================] - 0s 7ms/step - loss: 1.4099 - accuracy: 0.6696 - val_loss: 1.2270 - val_accuracy: 0.7600\n",
      "Epoch 29/100\n",
      "7/7 [==============================] - 0s 7ms/step - loss: 1.3441 - accuracy: 0.6733 - val_loss: 1.2008 - val_accuracy: 0.7700\n",
      "Epoch 30/100\n",
      "7/7 [==============================] - 0s 7ms/step - loss: 1.3653 - accuracy: 0.6633 - val_loss: 1.1822 - val_accuracy: 0.7600\n",
      "Epoch 31/100\n",
      "7/7 [==============================] - 0s 7ms/step - loss: 1.3272 - accuracy: 0.6796 - val_loss: 1.1651 - val_accuracy: 0.7800\n",
      "Epoch 32/100\n",
      "7/7 [==============================] - 0s 7ms/step - loss: 1.2991 - accuracy: 0.7084 - val_loss: 1.1554 - val_accuracy: 0.7700\n",
      "Epoch 33/100\n",
      "7/7 [==============================] - 0s 7ms/step - loss: 1.2530 - accuracy: 0.7259 - val_loss: 1.1459 - val_accuracy: 0.7800\n",
      "Epoch 34/100\n",
      "7/7 [==============================] - 0s 7ms/step - loss: 1.2433 - accuracy: 0.7284 - val_loss: 1.1393 - val_accuracy: 0.7800\n",
      "Epoch 35/100\n",
      "7/7 [==============================] - 0s 7ms/step - loss: 1.2428 - accuracy: 0.7259 - val_loss: 1.1244 - val_accuracy: 0.7800\n",
      "Epoch 36/100\n",
      "7/7 [==============================] - 0s 7ms/step - loss: 1.2061 - accuracy: 0.7397 - val_loss: 1.1083 - val_accuracy: 0.7750\n",
      "Epoch 37/100\n",
      "7/7 [==============================] - 0s 7ms/step - loss: 1.2685 - accuracy: 0.6959 - val_loss: 1.0969 - val_accuracy: 0.7800\n",
      "Epoch 38/100\n",
      "7/7 [==============================] - 0s 7ms/step - loss: 1.2032 - accuracy: 0.7334 - val_loss: 1.1043 - val_accuracy: 0.7800\n",
      "Epoch 39/100\n",
      "7/7 [==============================] - 0s 7ms/step - loss: 1.2132 - accuracy: 0.7284 - val_loss: 1.1063 - val_accuracy: 0.7850\n",
      "Epoch 40/100\n",
      "7/7 [==============================] - 0s 7ms/step - loss: 1.1474 - accuracy: 0.7484 - val_loss: 1.0967 - val_accuracy: 0.7900\n",
      "Epoch 41/100\n",
      "7/7 [==============================] - 0s 7ms/step - loss: 1.1579 - accuracy: 0.7447 - val_loss: 1.0767 - val_accuracy: 0.7950\n",
      "Epoch 42/100\n",
      "7/7 [==============================] - 0s 7ms/step - loss: 1.1153 - accuracy: 0.7710 - val_loss: 1.0686 - val_accuracy: 0.7950\n",
      "Epoch 43/100\n",
      "7/7 [==============================] - 0s 7ms/step - loss: 1.1181 - accuracy: 0.7584 - val_loss: 1.0558 - val_accuracy: 0.7900\n",
      "Epoch 44/100\n",
      "7/7 [==============================] - 0s 7ms/step - loss: 1.1079 - accuracy: 0.7710 - val_loss: 1.0498 - val_accuracy: 0.7850\n",
      "Epoch 45/100\n",
      "7/7 [==============================] - 0s 7ms/step - loss: 1.0826 - accuracy: 0.7735 - val_loss: 1.0447 - val_accuracy: 0.7900\n",
      "Epoch 46/100\n",
      "7/7 [==============================] - 0s 7ms/step - loss: 1.0749 - accuracy: 0.7672 - val_loss: 1.0468 - val_accuracy: 0.7850\n",
      "Epoch 47/100\n",
      "7/7 [==============================] - 0s 7ms/step - loss: 1.0824 - accuracy: 0.7672 - val_loss: 1.0455 - val_accuracy: 0.7700\n",
      "Epoch 48/100\n",
      "7/7 [==============================] - 0s 7ms/step - loss: 1.0434 - accuracy: 0.7972 - val_loss: 1.0252 - val_accuracy: 0.7800\n",
      "Epoch 49/100\n",
      "7/7 [==============================] - 0s 7ms/step - loss: 1.0742 - accuracy: 0.7772 - val_loss: 1.0151 - val_accuracy: 0.7900\n",
      "Epoch 50/100\n",
      "7/7 [==============================] - 0s 7ms/step - loss: 1.0663 - accuracy: 0.7497 - val_loss: 1.0079 - val_accuracy: 0.7950\n",
      "Epoch 51/100\n",
      "7/7 [==============================] - 0s 7ms/step - loss: 1.0210 - accuracy: 0.7972 - val_loss: 0.9989 - val_accuracy: 0.7900\n",
      "Epoch 52/100\n",
      "7/7 [==============================] - 0s 7ms/step - loss: 0.9863 - accuracy: 0.7997 - val_loss: 1.0042 - val_accuracy: 0.7850\n",
      "Epoch 53/100\n",
      "7/7 [==============================] - 0s 7ms/step - loss: 0.9864 - accuracy: 0.8135 - val_loss: 1.0151 - val_accuracy: 0.7900\n",
      "Epoch 54/100\n",
      "7/7 [==============================] - 0s 7ms/step - loss: 0.9864 - accuracy: 0.8060 - val_loss: 1.0170 - val_accuracy: 0.7950\n",
      "Epoch 55/100\n",
      "7/7 [==============================] - 0s 7ms/step - loss: 0.9380 - accuracy: 0.8185 - val_loss: 1.0047 - val_accuracy: 0.8050\n",
      "Epoch 56/100\n",
      "7/7 [==============================] - 0s 7ms/step - loss: 0.9372 - accuracy: 0.8273 - val_loss: 0.9956 - val_accuracy: 0.8050\n",
      "Epoch 57/100\n",
      "7/7 [==============================] - 0s 7ms/step - loss: 0.9632 - accuracy: 0.8148 - val_loss: 0.9991 - val_accuracy: 0.8000\n",
      "Epoch 58/100\n",
      "7/7 [==============================] - 0s 7ms/step - loss: 0.9577 - accuracy: 0.8273 - val_loss: 0.9946 - val_accuracy: 0.7950\n",
      "Epoch 59/100\n",
      "7/7 [==============================] - 0s 7ms/step - loss: 0.9276 - accuracy: 0.8260 - val_loss: 0.9986 - val_accuracy: 0.8000\n",
      "Epoch 60/100\n",
      "7/7 [==============================] - 0s 7ms/step - loss: 0.9105 - accuracy: 0.8323 - val_loss: 0.9983 - val_accuracy: 0.8050\n",
      "Epoch 61/100\n",
      "7/7 [==============================] - 0s 7ms/step - loss: 0.9197 - accuracy: 0.8310 - val_loss: 0.9977 - val_accuracy: 0.8050\n",
      "Epoch 62/100\n",
      "7/7 [==============================] - 0s 7ms/step - loss: 0.8850 - accuracy: 0.8436 - val_loss: 1.0034 - val_accuracy: 0.8000\n",
      "Epoch 63/100\n",
      "7/7 [==============================] - 0s 7ms/step - loss: 0.8763 - accuracy: 0.8473 - val_loss: 1.0124 - val_accuracy: 0.8000\n"
     ]
    }
   ],
   "source": [
    "# Entraînement du modèle\n",
    "history = model.fit(x_train, y_train, epochs=100, validation_data=(x_test, y_test),\n",
    "                    batch_size=128, callbacks=[early_stopping, lr_scheduler])"
   ]
  },
  {
   "cell_type": "code",
   "execution_count": 98,
   "metadata": {
    "execution": {
     "iopub.execute_input": "2025-04-09T21:27:40.526595Z",
     "iopub.status.busy": "2025-04-09T21:27:40.526330Z",
     "iopub.status.idle": "2025-04-09T21:27:40.574861Z",
     "shell.execute_reply": "2025-04-09T21:27:40.573963Z",
     "shell.execute_reply.started": "2025-04-09T21:27:40.526570Z"
    },
    "trusted": true
   },
   "outputs": [
    {
     "name": "stdout",
     "output_type": "stream",
     "text": [
      "2/2 [==============================] - 0s 3ms/step - loss: 0.9946 - accuracy: 0.7950\n",
      "Précision : 0.7950000166893005\n"
     ]
    }
   ],
   "source": [
    "# Évaluation du modèle\n",
    "loss, accuracy = model.evaluate(x_test, y_test, batch_size=128)\n",
    "print(\"Précision :\", accuracy)"
   ]
  },
  {
   "cell_type": "code",
   "execution_count": 99,
   "metadata": {
    "execution": {
     "iopub.execute_input": "2025-04-09T21:27:40.576221Z",
     "iopub.status.busy": "2025-04-09T21:27:40.575972Z",
     "iopub.status.idle": "2025-04-09T21:27:40.581015Z",
     "shell.execute_reply": "2025-04-09T21:27:40.580089Z",
     "shell.execute_reply.started": "2025-04-09T21:27:40.576198Z"
    },
    "trusted": true
   },
   "outputs": [
    {
     "name": "stdout",
     "output_type": "stream",
     "text": [
      "Accuracy: 0.7950000166893005\n"
     ]
    }
   ],
   "source": [
    "print(\"Accuracy:\",accuracy) # print accuracy"
   ]
  },
  {
   "cell_type": "code",
   "execution_count": 100,
   "metadata": {
    "execution": {
     "iopub.execute_input": "2025-04-09T21:27:40.582295Z",
     "iopub.status.busy": "2025-04-09T21:27:40.582049Z",
     "iopub.status.idle": "2025-04-09T21:27:40.817708Z",
     "shell.execute_reply": "2025-04-09T21:27:40.816891Z",
     "shell.execute_reply.started": "2025-04-09T21:27:40.582272Z"
    },
    "trusted": true
   },
   "outputs": [
    {
     "data": {
      "image/png": "[encoded data removed]",
      "text/plain": [
       "<Figure size 864x432 with 1 Axes>"
      ]
     },
     "metadata": {
      "needs_background": "light"
     },
     "output_type": "display_data"
    }
   ],
   "source": [
    "# Plot results\n",
    "pd.DataFrame(history.history).plot(figsize=(12,6))\n",
    "plt.show()"
   ]
  },
  {
   "cell_type": "code",
   "execution_count": 67,
   "metadata": {
    "execution": {
     "iopub.execute_input": "2025-04-09T21:27:25.809690Z",
     "iopub.status.busy": "2025-04-09T21:27:25.809325Z",
     "iopub.status.idle": "2025-04-09T21:27:25.830537Z",
     "shell.execute_reply": "2025-04-09T21:27:25.829884Z",
     "shell.execute_reply.started": "2025-04-09T21:27:25.809661Z"
    },
    "trusted": true
   },
   "outputs": [
    {
     "data": {
      "text/plain": [
       "['xgb_model5.pkl']"
      ]
     },
     "execution_count": 67,
     "metadata": {},
     "output_type": "execute_result"
    }
   ],
   "source": [
    "import joblib\n",
    "\n",
    "# Save the trained XGB model\n",
    "joblib.dump(XGB, \"xgb_model5.pkl\")"
   ]
  },
  {
   "cell_type": "code",
   "execution_count": 34,
   "metadata": {
    "execution": {
     "iopub.execute_input": "2025-04-09T12:58:41.172955Z",
     "iopub.status.busy": "2025-04-09T12:58:41.172128Z",
     "iopub.status.idle": "2025-04-09T12:58:49.696496Z",
     "shell.execute_reply": "2025-04-09T12:58:49.695495Z",
     "shell.execute_reply.started": "2025-04-09T12:58:41.172920Z"
    },
    "trusted": true
   },
   "outputs": [
    {
     "name": "stdout",
     "output_type": "stream",
     "text": [
      "Name: xgboost\n",
      "Version: 1.6.2\n",
      "Summary: XGBoost Python Package\n",
      "Home-page: https://github.com/dmlc/xgboost\n",
      "Author: \n",
      "Author-email: \n",
      "License: Apache-2.0\n",
      "Location: /opt/conda/lib/python3.7/site-packages\n",
      "Requires: numpy, scipy\n",
      "Required-by: TPOT\n"
     ]
    }
   ],
   "source": [
    "!pip show xgboost"
   ]
  },
  {
   "cell_type": "code",
   "execution_count": 1,
   "metadata": {
    "execution": {
     "iopub.execute_input": "2025-04-09T19:20:16.181593Z",
     "iopub.status.busy": "2025-04-09T19:20:16.181277Z",
     "iopub.status.idle": "2025-04-09T19:20:24.913224Z",
     "shell.execute_reply": "2025-04-09T19:20:24.911953Z",
     "shell.execute_reply.started": "2025-04-09T19:20:16.181516Z"
    },
    "trusted": true
   },
   "outputs": [
    {
     "name": "stdout",
     "output_type": "stream",
     "text": [
      "Name: librosa\n",
      "Version: 0.9.2\n",
      "Summary: Python module for audio and music processing\n",
      "Home-page: https://librosa.org\n",
      "Author: Brian McFee, librosa development team\n",
      "Author-email: brian.mcfee@nyu.edu\n",
      "License: ISC\n",
      "Location: /opt/conda/lib/python3.7/site-packages\n",
      "Requires: audioread, decorator, joblib, numba, numpy, packaging, pooch, resampy, scikit-learn, scipy, soundfile\n",
      "Required-by: \n"
     ]
    }
   ],
   "source": [
    "!pip show librosa"
   ]
  },
  {
   "cell_type": "markdown",
   "metadata": {},
   "source": [
    "TEST\n"
   ]
  }
 ],
 "metadata": {
  "kaggle": {
   "accelerator": "gpu",
   "dataSources": [
    {
     "datasetId": 568973,
     "sourceId": 1032238,
     "sourceType": "datasetVersion"
    },
    {
     "datasetId": 7097894,
     "sourceId": 11344285,
     "sourceType": "datasetVersion"
    }
   ],
   "dockerImageVersionId": 30301,
   "isGpuEnabled": true,
   "isInternetEnabled": true,
   "language": "python",
   "sourceType": "notebook"
  },
  "kernelspec": {
   "display_name": "Python 3",
   "language": "python",
   "name": "python3"
  },
  "language_info": {
   "codemirror_mode": {
    "name": "ipython",
    "version": 3
   },
   "file_extension": ".py",
   "mimetype": "text/x-python",
   "name": "python",
   "nbconvert_exporter": "python",
   "pygments_lexer": "ipython3",
   "version": "3.7.12"
  }
 },
 "nbformat": 4,
 "nbformat_minor": 4
}
